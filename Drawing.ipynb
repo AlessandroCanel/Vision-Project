{
  "cells": [
    {
      "cell_type": "code",
      "execution_count": 1,
      "metadata": {
        "id": "Qx6jRGeF7YDw"
      },
      "outputs": [],
      "source": [
        "import copy\n",
        "import time\n",
        "\n",
        "import numpy as np\n",
        "import shutil\n",
        "import torch\n",
        "import torch.nn as nn\n",
        "import torch.nn.functional as F\n",
        "import torch.optim as optim\n",
        "import matplotlib.pyplot as plt\n",
        "from sklearn.metrics import classification_report\n",
        "from sklearn.metrics import confusion_matrix\n",
        "from torch.utils.data import DataLoader\n",
        "from torchsummary import summary\n",
        "from torchvision import datasets, transforms, models\n",
        "\n",
        "from google.colab import drive"
      ]
    },
    {
      "cell_type": "code",
      "execution_count": 2,
      "metadata": {
        "id": "V8S2M8SG7t1x",
        "colab": {
          "base_uri": "https://localhost:8080/"
        },
        "outputId": "1e155329-e0d3-4b53-f41f-2fac6732dd0a"
      },
      "outputs": [
        {
          "output_type": "stream",
          "name": "stdout",
          "text": [
            "Mounted at /content/drive\n"
          ]
        }
      ],
      "source": [
        "drive.mount(\"/content/drive\")"
      ]
    },
    {
      "cell_type": "code",
      "execution_count": 3,
      "metadata": {
        "id": "elm6cbNiJpHf"
      },
      "outputs": [],
      "source": [
        "# shutil.copytree(\"/content/drive/MyDrive/data\", \"/content/data\")"
      ]
    },
    {
      "cell_type": "markdown",
      "metadata": {
        "id": "v9tlpvohAGgG"
      },
      "source": [
        "### Loading data"
      ]
    },
    {
      "cell_type": "code",
      "execution_count": 4,
      "metadata": {
        "id": "J9UfWaeB9WMi"
      },
      "outputs": [],
      "source": [
        "def create_validation_set(train_data, train_percentage, test_transform):\n",
        "\n",
        "  # Split train data into train and validation sets\n",
        "  num_train_examples = int(len(train_data) * train_percentage)\n",
        "  num_valid_examples = len(train_data) - num_train_examples\n",
        "\n",
        "  # Create 'Subset' objects\n",
        "  train_data, valid_data = torch.utils.data.random_split(train_data, [num_train_examples, num_valid_examples])\n",
        "\n",
        "  # print(f\"Number training examples: {len(train_data)}\")\n",
        "  # print(f\"Number validation examples: {len(valid_data)}\")\n",
        "\n",
        "  # Apply test transformations to the validation set\n",
        "  valid_data = copy.deepcopy(valid_data) # If we change train transformations, this won't affect the validation set\n",
        "  valid_data.dataset.transform = test_transform\n",
        "\n",
        "  return train_data, valid_data"
      ]
    },
    {
      "cell_type": "code",
      "execution_count": 5,
      "metadata": {
        "id": "twV0GaVc7uGl"
      },
      "outputs": [],
      "source": [
        "# create datasets\n",
        "train_transform = transforms.Compose([\n",
        "    transforms.Resize((224, 224)),\n",
        "    transforms.ToTensor(),\n",
        "])\n",
        "\n",
        "test_transform = transforms.Compose([\n",
        "    transforms.Resize((224, 224)),\n",
        "    transforms.ToTensor(),\n",
        "])\n",
        "\n",
        "train_dataset = datasets.ImageFolder(root='/content/drive/MyDrive/Final Training Data', transform=train_transform)\n",
        "train_dataset, valid_dataset = create_validation_set(train_dataset, 0.8, test_transform)\n",
        "test_dataset = datasets.ImageFolder(root='/content/drive/MyDrive/Vision/grape_dataset/test', transform=test_transform)"
      ]
    },
    {
      "cell_type": "code",
      "execution_count": 6,
      "metadata": {
        "id": "BYF49dnOA9Yj",
        "colab": {
          "base_uri": "https://localhost:8080/"
        },
        "outputId": "c7c73983-90a5-4a6b-9d96-9d591d54cf26"
      },
      "outputs": [
        {
          "output_type": "stream",
          "name": "stdout",
          "text": [
            "Number training examples: 9601\n",
            "Number validation examples: 2401\n",
            "Number test examples: 1805\n"
          ]
        }
      ],
      "source": [
        "print(f\"Number training examples: {len(train_dataset)}\")\n",
        "print(f\"Number validation examples: {len(valid_dataset)}\")\n",
        "print(f\"Number test examples: {len(test_dataset)}\")"
      ]
    },
    {
      "cell_type": "code",
      "execution_count": 7,
      "metadata": {
        "id": "AUfKqOb0vVnb",
        "colab": {
          "base_uri": "https://localhost:8080/"
        },
        "outputId": "0ef543a7-1a24-474a-cb7d-5e73b6a8c23c"
      },
      "outputs": [
        {
          "output_type": "stream",
          "name": "stdout",
          "text": [
            "Input size: (3, 224, 224)\n"
          ]
        }
      ],
      "source": [
        "input_size = tuple(train_dataset[0][0].shape)\n",
        "print(f'Input size: {input_size}')"
      ]
    },
    {
      "cell_type": "code",
      "execution_count": 8,
      "metadata": {
        "id": "YEt4eCPY885r"
      },
      "outputs": [],
      "source": [
        "# create iterators\n",
        "BATCH_SIZE = 64\n",
        "NUM_WORKERS = 2\n",
        "PIN_MEMORY = True\n",
        "\n",
        "train_iterator = DataLoader(train_dataset, shuffle=True, batch_size=BATCH_SIZE, num_workers=NUM_WORKERS, pin_memory=PIN_MEMORY)\n",
        "valid_iterator = DataLoader(valid_dataset, batch_size=BATCH_SIZE, num_workers=NUM_WORKERS, pin_memory=PIN_MEMORY)\n",
        "test_iterator = DataLoader(test_dataset, batch_size=BATCH_SIZE, num_workers=NUM_WORKERS, pin_memory=PIN_MEMORY)"
      ]
    },
    {
      "cell_type": "markdown",
      "metadata": {
        "id": "3difUDQkzj6M"
      },
      "source": [
        "### Support functions"
      ]
    },
    {
      "cell_type": "code",
      "execution_count": 9,
      "metadata": {
        "id": "CZP1G_NW0tp-"
      },
      "outputs": [],
      "source": [
        "def calculate_accuracy(y_pred, y):\n",
        "  '''\n",
        "  Compute accuracy from ground-truth and predicted labels.\n",
        "\n",
        "  Input\n",
        "  ------\n",
        "  y_pred: torch.Tensor [BATCH_SIZE, N_LABELS]\n",
        "  y: torch.Tensor [BATCH_SIZE]\n",
        "\n",
        "  Output\n",
        "  ------\n",
        "  acc: float\n",
        "    Accuracy\n",
        "  '''\n",
        "  # y_prob = F.softmax(y_pred, dim = -1)\n",
        "  y_pred = y_pred.argmax(dim=1, keepdim = True)\n",
        "  correct = y_pred.eq(y.view_as(y_pred)).sum()\n",
        "  acc = correct.float()/y.shape[0]\n",
        "  return acc"
      ]
    },
    {
      "cell_type": "code",
      "execution_count": 10,
      "metadata": {
        "id": "p2Q4JOVWznKF"
      },
      "outputs": [],
      "source": [
        "def train(model, iterator, optimizer, criterion, device):\n",
        "  epoch_loss = 0\n",
        "  epoch_acc = 0\n",
        "\n",
        "  # Train mode\n",
        "  model.train()\n",
        "\n",
        "  for (x,y) in iterator:\n",
        "    x = x.to(device)\n",
        "    y = y.to(device)\n",
        "    # Set gradients to zero\n",
        "    optimizer.zero_grad()\n",
        "\n",
        "    # Make Predictions\n",
        "    y_pred = model(x)\n",
        "\n",
        "    # Compute loss\n",
        "    loss = criterion(y_pred, y)\n",
        "\n",
        "    # Compute accuracy\n",
        "    acc = calculate_accuracy(y_pred, y)\n",
        "\n",
        "    # Backprop\n",
        "    loss.backward()\n",
        "\n",
        "    # Apply optimizer\n",
        "    optimizer.step()\n",
        "\n",
        "    # Extract data from loss and accuracy\n",
        "    epoch_loss += loss.item()\n",
        "    epoch_acc += acc.item()\n",
        "\n",
        "  return epoch_loss/len(iterator), epoch_acc/len(iterator)"
      ]
    },
    {
      "cell_type": "code",
      "execution_count": 11,
      "metadata": {
        "id": "_2dBzyWc0k-A"
      },
      "outputs": [],
      "source": [
        "def evaluate(model, iterator, criterion, device):\n",
        "  epoch_loss = 0\n",
        "  epoch_acc = 0\n",
        "\n",
        "  # Evaluation mode\n",
        "  model.eval()\n",
        "\n",
        "  # Do not compute gradients\n",
        "  with torch.no_grad():\n",
        "\n",
        "    for(x,y) in iterator:\n",
        "\n",
        "      x = x.to(device)\n",
        "      y = y.to(device)\n",
        "\n",
        "      # Make Predictions\n",
        "      y_pred = model(x)\n",
        "\n",
        "      # Compute loss\n",
        "      loss = criterion(y_pred, y)\n",
        "\n",
        "      # Compute accuracy\n",
        "      acc = calculate_accuracy(y_pred, y)\n",
        "\n",
        "      # Extract data from loss and accuracy\n",
        "      epoch_loss += loss.item()\n",
        "      epoch_acc += acc.item()\n",
        "\n",
        "  return epoch_loss/len(iterator), epoch_acc/len(iterator)"
      ]
    },
    {
      "cell_type": "code",
      "execution_count": 12,
      "metadata": {
        "id": "fTgJ_LU0XdI-"
      },
      "outputs": [],
      "source": [
        "def model_training(n_epochs, model, train_iterator, valid_iterator, optimizer, criterion, device, model_name='best_model.pt'):\n",
        "\n",
        "  # Initialize validation loss\n",
        "  best_valid_loss = float('inf')\n",
        "\n",
        "  # Save output losses, accs\n",
        "  train_losses = []\n",
        "  train_accs = []\n",
        "  valid_losses = []\n",
        "  valid_accs = []\n",
        "\n",
        "  # Loop over epochs\n",
        "  for epoch in range(n_epochs):\n",
        "    start_time = time.time()\n",
        "    # Train\n",
        "    train_loss, train_acc = train(model, train_iterator, optimizer, criterion, device)\n",
        "    # Validation\n",
        "    valid_loss, valid_acc = evaluate(model, valid_iterator, criterion, device)\n",
        "    # Save best model\n",
        "    if valid_loss < best_valid_loss:\n",
        "      best_valid_loss = valid_loss\n",
        "      # Save model\n",
        "      torch.save(model.state_dict(), model_name)\n",
        "    end_time = time.time()\n",
        "\n",
        "    print(f\"\\nEpoch: {epoch+1}/{n_epochs} -- Epoch Time: {end_time-start_time:.2f} s\")\n",
        "    print(\"---------------------------------\")\n",
        "    print(f\"Train -- Loss: {train_loss:.3f}, Acc: {train_acc * 100:.2f}%\")\n",
        "    print(f\"Val -- Loss: {valid_loss:.3f}, Acc: {valid_acc * 100:.2f}%\")\n",
        "\n",
        "    # Save\n",
        "    train_losses.append(train_loss)\n",
        "    train_accs.append(train_acc)\n",
        "    valid_losses.append(valid_loss)\n",
        "    valid_accs.append(valid_acc)\n",
        "\n",
        "  return train_losses, train_accs, valid_losses, valid_accs"
      ]
    },
    {
      "cell_type": "code",
      "execution_count": 13,
      "metadata": {
        "id": "XwI9aW552759"
      },
      "outputs": [],
      "source": [
        "def model_training_patience(n_epochs, model, train_iterator, valid_iterator, optimizer, criterion, device, patience, model_name='best_model.pt'):\n",
        "\n",
        "  # Initialize validation loss\n",
        "  best_valid_loss = float('inf')\n",
        "  best_epoch = 0\n",
        "\n",
        "  # Save output losses, accs\n",
        "  train_losses = []\n",
        "  train_accs = []\n",
        "  valid_losses = []\n",
        "  valid_accs = []\n",
        "\n",
        "  # Loop over epochs\n",
        "  for epoch in range(n_epochs):\n",
        "    start_time = time.time()\n",
        "    # Train\n",
        "    train_loss, train_acc = train(model, train_iterator, optimizer, criterion, device)\n",
        "    # Validation\n",
        "    valid_loss, valid_acc = evaluate(model, valid_iterator, criterion, device)\n",
        "    # Save best model\n",
        "    if valid_loss < best_valid_loss:\n",
        "      best_valid_loss = valid_loss\n",
        "      best_epoch = epoch\n",
        "      # Save model\n",
        "      torch.save(model.state_dict(), model_name)\n",
        "      print(f\"\\nModel checkpoint saved at epoch {epoch}\\n\")\n",
        "    else:\n",
        "        if patience is not None and epoch - best_epoch > patience:\n",
        "            # stopping training\n",
        "            print(f\"\\nEarly stopping at epoch {epoch}\\n\")\n",
        "            break\n",
        "    end_time = time.time()\n",
        "\n",
        "    print(f\"\\nEpoch: {epoch+1}/{n_epochs} -- Epoch Time: {end_time-start_time:.2f} s\")\n",
        "    print(\"---------------------------------\")\n",
        "    print(f\"Train -- Loss: {train_loss:.3f}, Acc: {train_acc * 100:.2f}%\")\n",
        "    print(f\"Val -- Loss: {valid_loss:.3f}, Acc: {valid_acc * 100:.2f}%\")\n",
        "\n",
        "    # Save\n",
        "    train_losses.append(train_loss)\n",
        "    train_accs.append(train_acc)\n",
        "    valid_losses.append(valid_loss)\n",
        "    valid_accs.append(valid_acc)\n",
        "\n",
        "    model.to(device)\n",
        "\n",
        "  return train_losses, train_accs, valid_losses, valid_accs"
      ]
    },
    {
      "cell_type": "code",
      "execution_count": 14,
      "metadata": {
        "id": "o07d36G_3_M2"
      },
      "outputs": [],
      "source": [
        "def plot_results(n_epochs, train_losses, train_accs, valid_losses, valid_accs):\n",
        "  N_EPOCHS = n_epochs\n",
        "  # Plot results\n",
        "  plt.figure(figsize=(20, 6))\n",
        "  _ = plt.subplot(1,2,1)\n",
        "  plt.plot(np.arange(N_EPOCHS)+1, train_losses, linewidth=3)\n",
        "  plt.plot(np.arange(N_EPOCHS)+1, valid_losses, linewidth=3)\n",
        "  _ = plt.legend(['Train', 'Validation'])\n",
        "  plt.grid('on'), plt.xlabel('Epoch'), plt.ylabel('Loss')\n",
        "\n",
        "  _ = plt.subplot(1,2,2)\n",
        "  plt.plot(np.arange(N_EPOCHS)+1, train_accs, linewidth=3)\n",
        "  plt.plot(np.arange(N_EPOCHS)+1, valid_accs, linewidth=3)\n",
        "  _ = plt.legend(['Train', 'Validation'])\n",
        "  plt.grid('on'), plt.xlabel('Epoch'), plt.ylabel('Accuracy')"
      ]
    },
    {
      "cell_type": "code",
      "execution_count": 15,
      "metadata": {
        "id": "45ckTtbk4-ls"
      },
      "outputs": [],
      "source": [
        "def model_testing(model, test_iterator, criterion, device, model_name='best_model.pt'):\n",
        "  # Load best weights\n",
        "  model.load_state_dict(torch.load(model_name))\n",
        "  # Evaluate model\n",
        "  test_loss, test_acc = evaluate(model, test_iterator, criterion, device)\n",
        "  # Print results\n",
        "  print(f\"Test -- Loss: {test_loss:.3f}, Acc: {test_acc * 100:.2f} %\")"
      ]
    },
    {
      "cell_type": "code",
      "execution_count": 16,
      "metadata": {
        "id": "vy4Ijx_q5H1o"
      },
      "outputs": [],
      "source": [
        "def predict(model, iterator, device):\n",
        "\n",
        "  # Evaluation mode\n",
        "  model.eval()\n",
        "\n",
        "  labels = []\n",
        "  pred = []\n",
        "\n",
        "  with torch.no_grad():\n",
        "    for (x, y) in iterator:\n",
        "      x = x.to(device)\n",
        "      y_pred = model(x)\n",
        "\n",
        "      # Get label with highest score\n",
        "      y_prob = F.softmax(y_pred, dim = -1)\n",
        "      top_pred = y_prob.argmax(1, keepdim=True)\n",
        "\n",
        "      labels.append(y.cpu())\n",
        "      pred.append(top_pred.cpu())\n",
        "\n",
        "  labels = torch.cat(labels, dim=0)\n",
        "  pred = torch.cat(pred, dim=0)\n",
        "\n",
        "  return labels, pred"
      ]
    },
    {
      "cell_type": "code",
      "execution_count": 17,
      "metadata": {
        "id": "oFY35LB55qr3"
      },
      "outputs": [],
      "source": [
        "def print_report(model, test_iterator, device):\n",
        "  labels, pred = predict(model, test_iterator, device)\n",
        "  print(confusion_matrix(labels, pred))\n",
        "  print(\"\\n\")\n",
        "  print(classification_report(labels, pred))"
      ]
    },
    {
      "cell_type": "markdown",
      "metadata": {
        "id": "QLUK69BIm4im"
      },
      "source": [
        "### Baseline CNN model"
      ]
    },
    {
      "cell_type": "code",
      "execution_count": 20,
      "metadata": {
        "id": "lx6OMOzd9t5C"
      },
      "outputs": [],
      "source": [
        "class DenseNet121(nn.Module):\n",
        "    def __init__(self, output_dim):\n",
        "        super().__init__()\n",
        "        self.dense_net = models.densenet121(pretrained=True)\n",
        "        self.dense_net.classifier = nn.Identity()\n",
        "        self.fc = nn.Linear(self.dense_net.classifier.in_features, output_dim)\n",
        "\n",
        "    def forward(self, x):\n",
        "        x = self.dense_net(x)\n",
        "        x = x.view(x.shape[0], -1)\n",
        "        x = self.fc(x)\n",
        "        return x\n",
        "\n"
      ]
    },
    {
      "cell_type": "code",
      "execution_count": 21,
      "metadata": {
        "id": "y3mmwB9jqd3D"
      },
      "outputs": [],
      "source": [
        "def conv_block(in_channels, out_channels, kernel_size, padding, pool_size):\n",
        "    layers = [nn.Conv2d(in_channels, out_channels, kernel_size=kernel_size, padding=padding),\n",
        "              nn.ReLU(inplace=True),\n",
        "              nn.BatchNorm2d(out_channels),\n",
        "              nn.MaxPool2d(pool_size),\n",
        "              ]\n",
        "\n",
        "    return nn.Sequential(*layers)"
      ]
    },
    {
      "cell_type": "code",
      "execution_count": 22,
      "metadata": {
        "id": "0kY3j6EQyH77"
      },
      "outputs": [],
      "source": [
        "def count_parameters(model):\n",
        "  return sum(p.numel() for p in model.parameters() if p.requires_grad)"
      ]
    },
    {
      "cell_type": "code",
      "source": [
        "!pip install hiddenlayer"
      ],
      "metadata": {
        "colab": {
          "base_uri": "https://localhost:8080/"
        },
        "id": "l8LXetWAfjAj",
        "outputId": "d2ab876d-2ae1-4047-ffed-5b22cb5355c7"
      },
      "execution_count": 35,
      "outputs": [
        {
          "output_type": "stream",
          "name": "stdout",
          "text": [
            "Collecting hiddenlayer\n",
            "  Downloading hiddenlayer-0.3-py3-none-any.whl (19 kB)\n",
            "Installing collected packages: hiddenlayer\n",
            "Successfully installed hiddenlayer-0.3\n"
          ]
        }
      ]
    },
    {
      "cell_type": "code",
      "execution_count": 45,
      "metadata": {
        "id": "pZlwJ-Vlm9rj",
        "colab": {
          "base_uri": "https://localhost:8080/"
        },
        "outputId": "190c326e-ff50-4e2a-bc45-28d7d77efc33"
      },
      "outputs": [
        {
          "output_type": "stream",
          "name": "stdout",
          "text": [
            "Requirement already satisfied: netron in /usr/local/lib/python3.10/dist-packages (7.4.2)\n",
            "Serving 'cnn_model.pth' at http://localhost:17607\n"
          ]
        },
        {
          "output_type": "execute_result",
          "data": {
            "text/plain": [
              "('localhost', 17607)"
            ]
          },
          "metadata": {},
          "execution_count": 45
        }
      ],
      "source": [
        "# Import torch and other modules\n",
        "import torch\n",
        "import torch.nn as nn\n",
        "import torch.nn.functional as F\n",
        "\n",
        "# Define the CNN model class\n",
        "class BaselineCNN(nn.Module):\n",
        "    def __init__(self, in_channels, output_dim):\n",
        "        super(BaselineCNN, self).__init__()\n",
        "\n",
        "        self.model_name = 'OurBaselineCNN'\n",
        "\n",
        "        self.conv = nn.Sequential(\n",
        "            nn.Conv2d(in_channels, 16, 3, padding=1),\n",
        "            nn.BatchNorm2d(16),\n",
        "            nn.ReLU(inplace=True),\n",
        "            nn.MaxPool2d(2),\n",
        "            nn.Conv2d(16, 32, 3, padding=1),\n",
        "            nn.BatchNorm2d(32),\n",
        "            nn.ReLU(inplace=True),\n",
        "            nn.MaxPool2d(2),\n",
        "            nn.Conv2d(32, 64, 3, padding=1),\n",
        "            nn.BatchNorm2d(64),\n",
        "            nn.ReLU(inplace=True),\n",
        "            nn.MaxPool2d(2),\n",
        "            nn.Conv2d(64, 64, 3, padding=1),\n",
        "            nn.BatchNorm2d(64),\n",
        "            nn.ReLU(inplace=True),\n",
        "            nn.MaxPool2d(2),\n",
        "        )\n",
        "\n",
        "        self.classifier = nn.Sequential(\n",
        "            nn.Linear(64 * 14 * 14, 512),\n",
        "            nn.ReLU(inplace=True),\n",
        "            nn.Dropout(0.3),\n",
        "            nn.Linear(512, output_dim),\n",
        "        )\n",
        "\n",
        "\n",
        "    def forward(self, x):\n",
        "        out = self.conv(x)\n",
        "        out = out.view(out.size(0), -1)\n",
        "        out = self.classifier(out)\n",
        "\n",
        "        return out\n",
        "\n",
        "# Create an instance of the model\n",
        "model = BaselineCNN(in_channels=3, output_dim=4)\n",
        "\n",
        "# Save the model as a file\n",
        "torch.save(model, \"cnn_model.pth\")\n",
        "\n",
        "# Install Netron using pip\n",
        "!pip install netron\n",
        "\n",
        "# Launch Netron and open the model file in a web browser\n",
        "import netron\n",
        "netron.start(\"cnn_model.pth\")\n"
      ]
    },
    {
      "cell_type": "code",
      "execution_count": 40,
      "metadata": {
        "id": "mlmyhRLvy-9A",
        "colab": {
          "base_uri": "https://localhost:8080/"
        },
        "outputId": "cb6f93a9-ca71-4a95-aaa2-966f946ce365"
      },
      "outputs": [
        {
          "output_type": "stream",
          "name": "stdout",
          "text": [
            "Device used: cuda\n"
          ]
        }
      ],
      "source": [
        "device = torch.device('cuda' if torch.cuda.is_available() else 'cpu')\n",
        "print(f'Device used: {device}')"
      ]
    },
    {
      "cell_type": "code",
      "execution_count": 41,
      "metadata": {
        "id": "QThGAkBrvKyz"
      },
      "outputs": [],
      "source": [
        "INPUT_CHANNELS = input_size[0]\n",
        "OUTPUT_DIM = 4 # number of classes\n",
        "\n",
        "criterion = nn.CrossEntropyLoss() # Softmax + CrossEntropy\n",
        "criterion = criterion.to(device)\n",
        "\n",
        "baseline_cnn = BaselineCNN(in_channels=INPUT_CHANNELS, output_dim=OUTPUT_DIM)\n",
        "baseline_cnn = baseline_cnn.to(device)"
      ]
    },
    {
      "cell_type": "code",
      "execution_count": 42,
      "metadata": {
        "id": "AUvOSIsCzRwp",
        "colab": {
          "base_uri": "https://localhost:8080/"
        },
        "outputId": "428c1c3d-bff6-4d9b-c19d-816ebf142d08"
      },
      "outputs": [
        {
          "output_type": "stream",
          "name": "stdout",
          "text": [
            "The model has 6,485,956 trainable parameters.\n",
            "----------------------------------------------------------------\n",
            "        Layer (type)               Output Shape         Param #\n",
            "================================================================\n",
            "            Conv2d-1         [-1, 16, 224, 224]             448\n",
            "       BatchNorm2d-2         [-1, 16, 224, 224]              32\n",
            "              ReLU-3         [-1, 16, 224, 224]               0\n",
            "         MaxPool2d-4         [-1, 16, 112, 112]               0\n",
            "            Conv2d-5         [-1, 32, 112, 112]           4,640\n",
            "       BatchNorm2d-6         [-1, 32, 112, 112]              64\n",
            "              ReLU-7         [-1, 32, 112, 112]               0\n",
            "         MaxPool2d-8           [-1, 32, 56, 56]               0\n",
            "            Conv2d-9           [-1, 64, 56, 56]          18,496\n",
            "      BatchNorm2d-10           [-1, 64, 56, 56]             128\n",
            "             ReLU-11           [-1, 64, 56, 56]               0\n",
            "        MaxPool2d-12           [-1, 64, 28, 28]               0\n",
            "           Conv2d-13           [-1, 64, 28, 28]          36,928\n",
            "      BatchNorm2d-14           [-1, 64, 28, 28]             128\n",
            "             ReLU-15           [-1, 64, 28, 28]               0\n",
            "        MaxPool2d-16           [-1, 64, 14, 14]               0\n",
            "           Linear-17                  [-1, 512]       6,423,040\n",
            "             ReLU-18                  [-1, 512]               0\n",
            "          Dropout-19                  [-1, 512]               0\n",
            "           Linear-20                    [-1, 4]           2,052\n",
            "================================================================\n",
            "Total params: 6,485,956\n",
            "Trainable params: 6,485,956\n",
            "Non-trainable params: 0\n",
            "----------------------------------------------------------------\n",
            "Input size (MB): 0.57\n",
            "Forward/backward pass size (MB): 36.09\n",
            "Params size (MB): 24.74\n",
            "Estimated Total Size (MB): 61.41\n",
            "----------------------------------------------------------------\n",
            "None\n"
          ]
        }
      ],
      "source": [
        "print(f\"The model has {count_parameters(baseline_cnn):,} trainable parameters.\")\n",
        "print(summary(baseline_cnn, input_size=input_size))"
      ]
    },
    {
      "cell_type": "code",
      "execution_count": 43,
      "metadata": {
        "id": "V3rMN-05yx2J"
      },
      "outputs": [],
      "source": [
        "optimizer = optim.Adam(baseline_cnn.parameters(),\n",
        "                       # lr=5e-4\n",
        "                       )"
      ]
    },
    {
      "cell_type": "code",
      "execution_count": 44,
      "metadata": {
        "id": "QhN4NGvczZlL",
        "colab": {
          "base_uri": "https://localhost:8080/",
          "height": 404
        },
        "outputId": "c485fe6b-c248-4c73-8e8f-25bd1f041b31"
      },
      "outputs": [
        {
          "output_type": "error",
          "ename": "KeyboardInterrupt",
          "evalue": "",
          "traceback": [
            "\u001b[0;31m---------------------------------------------------------------------------\u001b[0m",
            "\u001b[0;31mKeyboardInterrupt\u001b[0m                         Traceback (most recent call last)",
            "\u001b[0;32m<ipython-input-44-bce44e89bdf3>\u001b[0m in \u001b[0;36m<cell line: 3>\u001b[0;34m()\u001b[0m\n\u001b[1;32m      1\u001b[0m \u001b[0mN_EPOCHS\u001b[0m \u001b[0;34m=\u001b[0m \u001b[0;36m25\u001b[0m\u001b[0;34m\u001b[0m\u001b[0;34m\u001b[0m\u001b[0m\n\u001b[1;32m      2\u001b[0m \u001b[0mpatience\u001b[0m \u001b[0;34m=\u001b[0m \u001b[0;36m8\u001b[0m\u001b[0;34m\u001b[0m\u001b[0;34m\u001b[0m\u001b[0m\n\u001b[0;32m----> 3\u001b[0;31m train_losses, train_accs, valid_losses, valid_accs = model_training_patience(N_EPOCHS,\n\u001b[0m\u001b[1;32m      4\u001b[0m                                                                     \u001b[0mbaseline_cnn\u001b[0m\u001b[0;34m,\u001b[0m\u001b[0;34m\u001b[0m\u001b[0;34m\u001b[0m\u001b[0m\n\u001b[1;32m      5\u001b[0m                                                                     \u001b[0mtrain_iterator\u001b[0m\u001b[0;34m,\u001b[0m\u001b[0;34m\u001b[0m\u001b[0;34m\u001b[0m\u001b[0m\n",
            "\u001b[0;32m<ipython-input-13-86ce90e106f6>\u001b[0m in \u001b[0;36mmodel_training_patience\u001b[0;34m(n_epochs, model, train_iterator, valid_iterator, optimizer, criterion, device, patience, model_name)\u001b[0m\n\u001b[1;32m     15\u001b[0m     \u001b[0mstart_time\u001b[0m \u001b[0;34m=\u001b[0m \u001b[0mtime\u001b[0m\u001b[0;34m.\u001b[0m\u001b[0mtime\u001b[0m\u001b[0;34m(\u001b[0m\u001b[0;34m)\u001b[0m\u001b[0;34m\u001b[0m\u001b[0;34m\u001b[0m\u001b[0m\n\u001b[1;32m     16\u001b[0m     \u001b[0;31m# Train\u001b[0m\u001b[0;34m\u001b[0m\u001b[0;34m\u001b[0m\u001b[0m\n\u001b[0;32m---> 17\u001b[0;31m     \u001b[0mtrain_loss\u001b[0m\u001b[0;34m,\u001b[0m \u001b[0mtrain_acc\u001b[0m \u001b[0;34m=\u001b[0m \u001b[0mtrain\u001b[0m\u001b[0;34m(\u001b[0m\u001b[0mmodel\u001b[0m\u001b[0;34m,\u001b[0m \u001b[0mtrain_iterator\u001b[0m\u001b[0;34m,\u001b[0m \u001b[0moptimizer\u001b[0m\u001b[0;34m,\u001b[0m \u001b[0mcriterion\u001b[0m\u001b[0;34m,\u001b[0m \u001b[0mdevice\u001b[0m\u001b[0;34m)\u001b[0m\u001b[0;34m\u001b[0m\u001b[0;34m\u001b[0m\u001b[0m\n\u001b[0m\u001b[1;32m     18\u001b[0m     \u001b[0;31m# Validation\u001b[0m\u001b[0;34m\u001b[0m\u001b[0;34m\u001b[0m\u001b[0m\n\u001b[1;32m     19\u001b[0m     \u001b[0mvalid_loss\u001b[0m\u001b[0;34m,\u001b[0m \u001b[0mvalid_acc\u001b[0m \u001b[0;34m=\u001b[0m \u001b[0mevaluate\u001b[0m\u001b[0;34m(\u001b[0m\u001b[0mmodel\u001b[0m\u001b[0;34m,\u001b[0m \u001b[0mvalid_iterator\u001b[0m\u001b[0;34m,\u001b[0m \u001b[0mcriterion\u001b[0m\u001b[0;34m,\u001b[0m \u001b[0mdevice\u001b[0m\u001b[0;34m)\u001b[0m\u001b[0;34m\u001b[0m\u001b[0;34m\u001b[0m\u001b[0m\n",
            "\u001b[0;32m<ipython-input-10-ab538f6e7bcd>\u001b[0m in \u001b[0;36mtrain\u001b[0;34m(model, iterator, optimizer, criterion, device)\u001b[0m\n\u001b[1;32m      6\u001b[0m   \u001b[0mmodel\u001b[0m\u001b[0;34m.\u001b[0m\u001b[0mtrain\u001b[0m\u001b[0;34m(\u001b[0m\u001b[0;34m)\u001b[0m\u001b[0;34m\u001b[0m\u001b[0;34m\u001b[0m\u001b[0m\n\u001b[1;32m      7\u001b[0m \u001b[0;34m\u001b[0m\u001b[0m\n\u001b[0;32m----> 8\u001b[0;31m   \u001b[0;32mfor\u001b[0m \u001b[0;34m(\u001b[0m\u001b[0mx\u001b[0m\u001b[0;34m,\u001b[0m\u001b[0my\u001b[0m\u001b[0;34m)\u001b[0m \u001b[0;32min\u001b[0m \u001b[0miterator\u001b[0m\u001b[0;34m:\u001b[0m\u001b[0;34m\u001b[0m\u001b[0;34m\u001b[0m\u001b[0m\n\u001b[0m\u001b[1;32m      9\u001b[0m     \u001b[0mx\u001b[0m \u001b[0;34m=\u001b[0m \u001b[0mx\u001b[0m\u001b[0;34m.\u001b[0m\u001b[0mto\u001b[0m\u001b[0;34m(\u001b[0m\u001b[0mdevice\u001b[0m\u001b[0;34m)\u001b[0m\u001b[0;34m\u001b[0m\u001b[0;34m\u001b[0m\u001b[0m\n\u001b[1;32m     10\u001b[0m     \u001b[0my\u001b[0m \u001b[0;34m=\u001b[0m \u001b[0my\u001b[0m\u001b[0;34m.\u001b[0m\u001b[0mto\u001b[0m\u001b[0;34m(\u001b[0m\u001b[0mdevice\u001b[0m\u001b[0;34m)\u001b[0m\u001b[0;34m\u001b[0m\u001b[0;34m\u001b[0m\u001b[0m\n",
            "\u001b[0;32m/usr/local/lib/python3.10/dist-packages/torch/utils/data/dataloader.py\u001b[0m in \u001b[0;36m__next__\u001b[0;34m(self)\u001b[0m\n\u001b[1;32m    628\u001b[0m                 \u001b[0;31m# TODO(https://github.com/pytorch/pytorch/issues/76750)\u001b[0m\u001b[0;34m\u001b[0m\u001b[0;34m\u001b[0m\u001b[0m\n\u001b[1;32m    629\u001b[0m                 \u001b[0mself\u001b[0m\u001b[0;34m.\u001b[0m\u001b[0m_reset\u001b[0m\u001b[0;34m(\u001b[0m\u001b[0;34m)\u001b[0m  \u001b[0;31m# type: ignore[call-arg]\u001b[0m\u001b[0;34m\u001b[0m\u001b[0;34m\u001b[0m\u001b[0m\n\u001b[0;32m--> 630\u001b[0;31m             \u001b[0mdata\u001b[0m \u001b[0;34m=\u001b[0m \u001b[0mself\u001b[0m\u001b[0;34m.\u001b[0m\u001b[0m_next_data\u001b[0m\u001b[0;34m(\u001b[0m\u001b[0;34m)\u001b[0m\u001b[0;34m\u001b[0m\u001b[0;34m\u001b[0m\u001b[0m\n\u001b[0m\u001b[1;32m    631\u001b[0m             \u001b[0mself\u001b[0m\u001b[0;34m.\u001b[0m\u001b[0m_num_yielded\u001b[0m \u001b[0;34m+=\u001b[0m \u001b[0;36m1\u001b[0m\u001b[0;34m\u001b[0m\u001b[0;34m\u001b[0m\u001b[0m\n\u001b[1;32m    632\u001b[0m             \u001b[0;32mif\u001b[0m \u001b[0mself\u001b[0m\u001b[0;34m.\u001b[0m\u001b[0m_dataset_kind\u001b[0m \u001b[0;34m==\u001b[0m \u001b[0m_DatasetKind\u001b[0m\u001b[0;34m.\u001b[0m\u001b[0mIterable\u001b[0m \u001b[0;32mand\u001b[0m\u001b[0;31m \u001b[0m\u001b[0;31m\\\u001b[0m\u001b[0;34m\u001b[0m\u001b[0;34m\u001b[0m\u001b[0m\n",
            "\u001b[0;32m/usr/local/lib/python3.10/dist-packages/torch/utils/data/dataloader.py\u001b[0m in \u001b[0;36m_next_data\u001b[0;34m(self)\u001b[0m\n\u001b[1;32m   1326\u001b[0m \u001b[0;34m\u001b[0m\u001b[0m\n\u001b[1;32m   1327\u001b[0m             \u001b[0;32massert\u001b[0m \u001b[0;32mnot\u001b[0m \u001b[0mself\u001b[0m\u001b[0;34m.\u001b[0m\u001b[0m_shutdown\u001b[0m \u001b[0;32mand\u001b[0m \u001b[0mself\u001b[0m\u001b[0;34m.\u001b[0m\u001b[0m_tasks_outstanding\u001b[0m \u001b[0;34m>\u001b[0m \u001b[0;36m0\u001b[0m\u001b[0;34m\u001b[0m\u001b[0;34m\u001b[0m\u001b[0m\n\u001b[0;32m-> 1328\u001b[0;31m             \u001b[0midx\u001b[0m\u001b[0;34m,\u001b[0m \u001b[0mdata\u001b[0m \u001b[0;34m=\u001b[0m \u001b[0mself\u001b[0m\u001b[0;34m.\u001b[0m\u001b[0m_get_data\u001b[0m\u001b[0;34m(\u001b[0m\u001b[0;34m)\u001b[0m\u001b[0;34m\u001b[0m\u001b[0;34m\u001b[0m\u001b[0m\n\u001b[0m\u001b[1;32m   1329\u001b[0m             \u001b[0mself\u001b[0m\u001b[0;34m.\u001b[0m\u001b[0m_tasks_outstanding\u001b[0m \u001b[0;34m-=\u001b[0m \u001b[0;36m1\u001b[0m\u001b[0;34m\u001b[0m\u001b[0;34m\u001b[0m\u001b[0m\n\u001b[1;32m   1330\u001b[0m             \u001b[0;32mif\u001b[0m \u001b[0mself\u001b[0m\u001b[0;34m.\u001b[0m\u001b[0m_dataset_kind\u001b[0m \u001b[0;34m==\u001b[0m \u001b[0m_DatasetKind\u001b[0m\u001b[0;34m.\u001b[0m\u001b[0mIterable\u001b[0m\u001b[0;34m:\u001b[0m\u001b[0;34m\u001b[0m\u001b[0;34m\u001b[0m\u001b[0m\n",
            "\u001b[0;32m/usr/local/lib/python3.10/dist-packages/torch/utils/data/dataloader.py\u001b[0m in \u001b[0;36m_get_data\u001b[0;34m(self)\u001b[0m\n\u001b[1;32m   1282\u001b[0m         \u001b[0;32melif\u001b[0m \u001b[0mself\u001b[0m\u001b[0;34m.\u001b[0m\u001b[0m_pin_memory\u001b[0m\u001b[0;34m:\u001b[0m\u001b[0;34m\u001b[0m\u001b[0;34m\u001b[0m\u001b[0m\n\u001b[1;32m   1283\u001b[0m             \u001b[0;32mwhile\u001b[0m \u001b[0mself\u001b[0m\u001b[0;34m.\u001b[0m\u001b[0m_pin_memory_thread\u001b[0m\u001b[0;34m.\u001b[0m\u001b[0mis_alive\u001b[0m\u001b[0;34m(\u001b[0m\u001b[0;34m)\u001b[0m\u001b[0;34m:\u001b[0m\u001b[0;34m\u001b[0m\u001b[0;34m\u001b[0m\u001b[0m\n\u001b[0;32m-> 1284\u001b[0;31m                 \u001b[0msuccess\u001b[0m\u001b[0;34m,\u001b[0m \u001b[0mdata\u001b[0m \u001b[0;34m=\u001b[0m \u001b[0mself\u001b[0m\u001b[0;34m.\u001b[0m\u001b[0m_try_get_data\u001b[0m\u001b[0;34m(\u001b[0m\u001b[0;34m)\u001b[0m\u001b[0;34m\u001b[0m\u001b[0;34m\u001b[0m\u001b[0m\n\u001b[0m\u001b[1;32m   1285\u001b[0m                 \u001b[0;32mif\u001b[0m \u001b[0msuccess\u001b[0m\u001b[0;34m:\u001b[0m\u001b[0;34m\u001b[0m\u001b[0;34m\u001b[0m\u001b[0m\n\u001b[1;32m   1286\u001b[0m                     \u001b[0;32mreturn\u001b[0m \u001b[0mdata\u001b[0m\u001b[0;34m\u001b[0m\u001b[0;34m\u001b[0m\u001b[0m\n",
            "\u001b[0;32m/usr/local/lib/python3.10/dist-packages/torch/utils/data/dataloader.py\u001b[0m in \u001b[0;36m_try_get_data\u001b[0;34m(self, timeout)\u001b[0m\n\u001b[1;32m   1130\u001b[0m         \u001b[0;31m#   (bool: whether successfully get data, any: data if successful else None)\u001b[0m\u001b[0;34m\u001b[0m\u001b[0;34m\u001b[0m\u001b[0m\n\u001b[1;32m   1131\u001b[0m         \u001b[0;32mtry\u001b[0m\u001b[0;34m:\u001b[0m\u001b[0;34m\u001b[0m\u001b[0;34m\u001b[0m\u001b[0m\n\u001b[0;32m-> 1132\u001b[0;31m             \u001b[0mdata\u001b[0m \u001b[0;34m=\u001b[0m \u001b[0mself\u001b[0m\u001b[0;34m.\u001b[0m\u001b[0m_data_queue\u001b[0m\u001b[0;34m.\u001b[0m\u001b[0mget\u001b[0m\u001b[0;34m(\u001b[0m\u001b[0mtimeout\u001b[0m\u001b[0;34m=\u001b[0m\u001b[0mtimeout\u001b[0m\u001b[0;34m)\u001b[0m\u001b[0;34m\u001b[0m\u001b[0;34m\u001b[0m\u001b[0m\n\u001b[0m\u001b[1;32m   1133\u001b[0m             \u001b[0;32mreturn\u001b[0m \u001b[0;34m(\u001b[0m\u001b[0;32mTrue\u001b[0m\u001b[0;34m,\u001b[0m \u001b[0mdata\u001b[0m\u001b[0;34m)\u001b[0m\u001b[0;34m\u001b[0m\u001b[0;34m\u001b[0m\u001b[0m\n\u001b[1;32m   1134\u001b[0m         \u001b[0;32mexcept\u001b[0m \u001b[0mException\u001b[0m \u001b[0;32mas\u001b[0m \u001b[0me\u001b[0m\u001b[0;34m:\u001b[0m\u001b[0;34m\u001b[0m\u001b[0;34m\u001b[0m\u001b[0m\n",
            "\u001b[0;32m/usr/lib/python3.10/queue.py\u001b[0m in \u001b[0;36mget\u001b[0;34m(self, block, timeout)\u001b[0m\n\u001b[1;32m    178\u001b[0m                     \u001b[0;32mif\u001b[0m \u001b[0mremaining\u001b[0m \u001b[0;34m<=\u001b[0m \u001b[0;36m0.0\u001b[0m\u001b[0;34m:\u001b[0m\u001b[0;34m\u001b[0m\u001b[0;34m\u001b[0m\u001b[0m\n\u001b[1;32m    179\u001b[0m                         \u001b[0;32mraise\u001b[0m \u001b[0mEmpty\u001b[0m\u001b[0;34m\u001b[0m\u001b[0;34m\u001b[0m\u001b[0m\n\u001b[0;32m--> 180\u001b[0;31m                     \u001b[0mself\u001b[0m\u001b[0;34m.\u001b[0m\u001b[0mnot_empty\u001b[0m\u001b[0;34m.\u001b[0m\u001b[0mwait\u001b[0m\u001b[0;34m(\u001b[0m\u001b[0mremaining\u001b[0m\u001b[0;34m)\u001b[0m\u001b[0;34m\u001b[0m\u001b[0;34m\u001b[0m\u001b[0m\n\u001b[0m\u001b[1;32m    181\u001b[0m             \u001b[0mitem\u001b[0m \u001b[0;34m=\u001b[0m \u001b[0mself\u001b[0m\u001b[0;34m.\u001b[0m\u001b[0m_get\u001b[0m\u001b[0;34m(\u001b[0m\u001b[0;34m)\u001b[0m\u001b[0;34m\u001b[0m\u001b[0;34m\u001b[0m\u001b[0m\n\u001b[1;32m    182\u001b[0m             \u001b[0mself\u001b[0m\u001b[0;34m.\u001b[0m\u001b[0mnot_full\u001b[0m\u001b[0;34m.\u001b[0m\u001b[0mnotify\u001b[0m\u001b[0;34m(\u001b[0m\u001b[0;34m)\u001b[0m\u001b[0;34m\u001b[0m\u001b[0;34m\u001b[0m\u001b[0m\n",
            "\u001b[0;32m/usr/lib/python3.10/threading.py\u001b[0m in \u001b[0;36mwait\u001b[0;34m(self, timeout)\u001b[0m\n\u001b[1;32m    322\u001b[0m             \u001b[0;32melse\u001b[0m\u001b[0;34m:\u001b[0m\u001b[0;34m\u001b[0m\u001b[0;34m\u001b[0m\u001b[0m\n\u001b[1;32m    323\u001b[0m                 \u001b[0;32mif\u001b[0m \u001b[0mtimeout\u001b[0m \u001b[0;34m>\u001b[0m \u001b[0;36m0\u001b[0m\u001b[0;34m:\u001b[0m\u001b[0;34m\u001b[0m\u001b[0;34m\u001b[0m\u001b[0m\n\u001b[0;32m--> 324\u001b[0;31m                     \u001b[0mgotit\u001b[0m \u001b[0;34m=\u001b[0m \u001b[0mwaiter\u001b[0m\u001b[0;34m.\u001b[0m\u001b[0macquire\u001b[0m\u001b[0;34m(\u001b[0m\u001b[0;32mTrue\u001b[0m\u001b[0;34m,\u001b[0m \u001b[0mtimeout\u001b[0m\u001b[0;34m)\u001b[0m\u001b[0;34m\u001b[0m\u001b[0;34m\u001b[0m\u001b[0m\n\u001b[0m\u001b[1;32m    325\u001b[0m                 \u001b[0;32melse\u001b[0m\u001b[0;34m:\u001b[0m\u001b[0;34m\u001b[0m\u001b[0;34m\u001b[0m\u001b[0m\n\u001b[1;32m    326\u001b[0m                     \u001b[0mgotit\u001b[0m \u001b[0;34m=\u001b[0m \u001b[0mwaiter\u001b[0m\u001b[0;34m.\u001b[0m\u001b[0macquire\u001b[0m\u001b[0;34m(\u001b[0m\u001b[0;32mFalse\u001b[0m\u001b[0;34m)\u001b[0m\u001b[0;34m\u001b[0m\u001b[0;34m\u001b[0m\u001b[0m\n",
            "\u001b[0;31mKeyboardInterrupt\u001b[0m: "
          ]
        }
      ],
      "source": [
        "N_EPOCHS = 25\n",
        "patience = 8\n",
        "train_losses, train_accs, valid_losses, valid_accs = model_training_patience(N_EPOCHS,\n",
        "                                                                    baseline_cnn,\n",
        "                                                                    train_iterator,\n",
        "                                                                    valid_iterator,\n",
        "                                                                    optimizer,\n",
        "                                                                    criterion,\n",
        "                                                                    device,\n",
        "                                                                    patience=patience,\n",
        "                                                                    model_name='baseline_CNN.pt'\n",
        "                                                                    )\n",
        "\n",
        "plot_results(N_EPOCHS, train_losses, train_accs, valid_losses, valid_accs)"
      ]
    },
    {
      "cell_type": "markdown",
      "metadata": {
        "id": "bvVaRqrPVzaV"
      },
      "source": [
        "### Recreate datasets (to use pretrained models on ImageNet)"
      ]
    },
    {
      "cell_type": "code",
      "execution_count": null,
      "metadata": {
        "id": "6pKWgDDOQ-o2"
      },
      "outputs": [],
      "source": [
        "mean_imagenet = [0.485, 0.456, 0.406]\n",
        "std_imagenet = [0.229, 0.224, 0.225]"
      ]
    },
    {
      "cell_type": "code",
      "execution_count": null,
      "metadata": {
        "id": "usuZ_xSaWCNg"
      },
      "outputs": [],
      "source": [
        "train_transform_imagenet = transforms.Compose([\n",
        "    transforms.Resize((224, 224)),\n",
        "    transforms.ToTensor(),\n",
        "    transforms.Normalize(mean_imagenet, std_imagenet)\n",
        "])\n",
        "\n",
        "test_transform_imagenet = transforms.Compose([\n",
        "    transforms.Resize((224, 224)),\n",
        "    transforms.ToTensor(),\n",
        "    transforms.Normalize(mean_imagenet, std_imagenet)\n",
        "])\n",
        "\n",
        "train_dataset_imagenet = datasets.ImageFolder(root='/content/drive/MyDrive/Final Training Data', transform=train_transform_imagenet)\n",
        "train_dataset_imagenet, valid_dataset_imagenet = create_validation_set(train_dataset_imagenet, 0.8, test_transform_imagenet)\n",
        "test_dataset_imagenet = datasets.ImageFolder(root='/content/drive/MyDrive/Vision/grape_dataset/test', transform=test_transform_imagenet)"
      ]
    },
    {
      "cell_type": "code",
      "execution_count": null,
      "metadata": {
        "id": "Q5slR0pnWBy-"
      },
      "outputs": [],
      "source": [
        "# create iterators\n",
        "BATCH_SIZE = 64\n",
        "NUM_WORKERS = 2\n",
        "PIN_MEMORY = True\n",
        "\n",
        "train_iterator_imagenet = DataLoader(train_dataset_imagenet, shuffle=True, batch_size=BATCH_SIZE, num_workers=NUM_WORKERS, pin_memory=PIN_MEMORY)\n",
        "valid_iterator_imagenet = DataLoader(valid_dataset_imagenet, batch_size=BATCH_SIZE, num_workers=NUM_WORKERS, pin_memory=PIN_MEMORY)\n",
        "test_iterator_imagenet = DataLoader(test_dataset_imagenet, batch_size=BATCH_SIZE, num_workers=NUM_WORKERS, pin_memory=PIN_MEMORY)"
      ]
    },
    {
      "cell_type": "markdown",
      "metadata": {
        "id": "rLjdnoVVPjO_"
      },
      "source": [
        "### DenseNet121"
      ]
    },
    {
      "cell_type": "markdown",
      "metadata": {
        "id": "RQM78BJTZ0n7"
      },
      "source": [
        "Rewrite"
      ]
    },
    {
      "cell_type": "code",
      "execution_count": null,
      "metadata": {
        "id": "pRJXDz9I-c1C"
      },
      "outputs": [],
      "source": [
        "import torch\n",
        "from torch import nn, optim\n",
        "from torchvision import models, datasets, transforms\n",
        "from torch.utils.data import DataLoader\n",
        "\n",
        "# Define constants\n",
        "OUTPUT_DIM = 4  # Change this to your number of classes\n",
        "BATCH_SIZE = 64\n",
        "NUM_WORKERS = 2\n",
        "PIN_MEMORY = True\n",
        "N_EPOCHS = 25\n",
        "device = torch.device('cuda' if torch.cuda.is_available() else 'cpu')\n",
        "\n",
        "# Define transforms\n",
        "mean_imagenet = [0.485, 0.456, 0.406]\n",
        "std_imagenet = [0.229, 0.224, 0.225]\n",
        "\n",
        "train_transform_imagenet = transforms.Compose([\n",
        "    transforms.Resize((224, 224)),\n",
        "    transforms.ToTensor(),\n",
        "    transforms.Normalize(mean_imagenet, std_imagenet)\n",
        "])\n",
        "\n",
        "test_transform_imagenet = transforms.Compose([\n",
        "    transforms.Resize((224, 224)),\n",
        "    transforms.ToTensor(),\n",
        "    transforms.Normalize(mean_imagenet, std_imagenet)\n",
        "])\n",
        "\n",
        "# Load datasets\n",
        "train_dataset_imagenet = datasets.ImageFolder(root='/content/drive/MyDrive/Final Training Data', transform=train_transform_imagenet)\n",
        "test_dataset_imagenet = datasets.ImageFolder(root='/content/drive/MyDrive/Vision/grape_dataset/test', transform=test_transform_imagenet)\n",
        "\n",
        "# Create data loaders\n",
        "train_iterator_imagenet = DataLoader(train_dataset_imagenet, shuffle=True, batch_size=BATCH_SIZE, num_workers=NUM_WORKERS, pin_memory=PIN_MEMORY)\n",
        "test_iterator_imagenet = DataLoader(test_dataset_imagenet, batch_size=BATCH_SIZE, num_workers=NUM_WORKERS, pin_memory=PIN_MEMORY)\n",
        "\n",
        "# Define the model\n",
        "class DenseNet121(nn.Module):\n",
        "    def __init__(self, output_dim):\n",
        "        super().__init__()\n",
        "        self.dense_net = models.densenet121(pretrained=True)\n",
        "        num_features = self.dense_net.classifier.in_features\n",
        "        self.dense_net.classifier = nn.Identity()\n",
        "        self.fc = nn.Linear(num_features, output_dim)\n",
        "\n",
        "    def forward(self, x):\n",
        "        x = self.dense_net(x)\n",
        "        x = x.view(x.shape[0], -1)\n",
        "        x = self.fc(x)\n",
        "        return x\n",
        "\n",
        "dense_net121_extract = DenseNet121(OUTPUT_DIM).to(device)\n",
        "\n",
        "# Define the optimizer (added L2 regularization)\n",
        "optimizer = optim.Adam(dense_net121_extract.parameters(), weight_decay=0.01)\n",
        "\n",
        "# Define the loss function\n",
        "criterion = nn.CrossEntropyLoss()\n",
        "\n",
        "# Training function\n",
        "def model_training(N_EPOCHS, model, train_iterator, valid_iterator, optimizer, criterion, device, model_name='model.pt'):\n",
        "    best_valid_loss = float('inf')\n",
        "    for epoch in range(N_EPOCHS):\n",
        "        # Training\n",
        "        model.train()\n",
        "        train_loss = 0\n",
        "        valid_loss = 0\n",
        "        for inputs, labels in train_iterator:\n",
        "            optimizer.zero_grad()\n",
        "            inputs, labels = inputs.to(device), labels.to(device)\n",
        "            predictions = model(inputs)\n",
        "            loss = criterion(predictions, labels)\n",
        "            loss.backward()\n",
        "            optimizer.step()\n",
        "            train_loss += loss.item()\n",
        "\n",
        "        # Validation\n",
        "        model.eval()\n",
        "        with torch.no_grad():\n",
        "            for inputs, labels in valid_iterator:\n",
        "                inputs, labels = inputs.to(device), labels.to(device)\n",
        "                predictions = model(inputs)\n",
        "                loss = criterion(predictions, labels)\n",
        "                valid_loss += loss.item()\n",
        "\n",
        "        print(f'Epoch: {epoch+1}/{N_EPOCHS}.. Training Loss: {train_loss/len(train_iterator):.3f}.. Validation Loss: {valid_loss/len(valid_iterator):.3f}')\n",
        "\n",
        "        if valid_loss < best_valid_loss:\n",
        "            best_valid_loss = valid_loss\n",
        "            torch.save(model.state_dict(), model_name)\n",
        "\n",
        "    return model\n",
        "\n",
        "# Train the model\n",
        "model_training(N_EPOCHS, dense_net121_extract, train_iterator_imagenet, test_iterator_imagenet, optimizer, criterion, device, model_name='dense_net121.pt')\n"
      ]
    }
  ],
  "metadata": {
    "accelerator": "GPU",
    "colab": {
      "provenance": []
    },
    "kernelspec": {
      "display_name": "Python 3",
      "name": "python3"
    },
    "language_info": {
      "name": "python"
    }
  },
  "nbformat": 4,
  "nbformat_minor": 0
}